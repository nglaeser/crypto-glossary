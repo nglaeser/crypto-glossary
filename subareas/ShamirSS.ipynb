{
 "cells": [
  {
   "cell_type": "markdown",
   "metadata": {},
   "source": [
    "# Shamir Secret Sharing\n",
    "\n",
    "Shamir secret sharing is a $(t+1)$-out-of-$n$ secret sharing protocol. Given a secret value $s$, \n",
    "- define $f(X) = f_t X^t + \\ldots + f_1 X + s$, where $f_t, \\ldots, f_1 \\leftarrow \\mathbb{F}_p$ for some prime $p > n$\n",
    "- give share $f(i)$ to $P_i$ ($i = 1, \\ldots, n$)\n",
    "\n",
    "To reconstruct, at least $t+1$ parties pool their points $(i, f(i))$ and reconstruct the polynomial $f$, e.g. as \n",
    "\n",
    "$$ \\sum_i^{t+1} \\ell_i \\cdot f(i), \\text{ where } \\ell_i(X) = \\frac{\\Pi_{j \\neq i} (X-x_j)}{\\Pi_{j \\neq i} (x_i-x_j)} $$ \n",
    "\n",
    "Then, evaluate $f(0) = s$."
   ]
  },
  {
   "cell_type": "code",
   "execution_count": 1,
   "metadata": {},
   "outputs": [],
   "source": [
    "import numpy as np\n",
    "import random, sympy\n",
    "import matplotlib.pyplot as plt"
   ]
  },
  {
   "cell_type": "markdown",
   "metadata": {},
   "source": [
    "First, let's define some helper functions for dealing with polynomials."
   ]
  },
  {
   "cell_type": "code",
   "execution_count": 152,
   "metadata": {},
   "outputs": [],
   "source": [
    "def term_to_string(coeff, deg):\n",
    "    if coeff == 0:\n",
    "        return \"\"\n",
    "\n",
    "    temp = \"{}\".format(coeff)\n",
    "    app = \"\"\n",
    "    # constant term\n",
    "    if deg == 0:\n",
    "        return temp\n",
    "    # x term\n",
    "    elif deg == 1:\n",
    "        app = \"x\"\n",
    "    # others\n",
    "    else:\n",
    "        app = \"x^{}\".format(deg)\n",
    "    return app if coeff == 1 else temp+app\n",
    "\n",
    "def print_poly(coeffs):\n",
    "    poly_str = \"\"\n",
    "    \n",
    "    # coefficients from highest to lowest degree\n",
    "    deg = len(coeffs)-1\n",
    "    for i in range(len(coeffs)):\n",
    "        if(coeffs[i]!=0):\n",
    "            poly_str += \"{} + \".format(term_to_string(coeffs[i], deg-i))\n",
    "    \n",
    "    # remove extra + at end\n",
    "    print(poly_str[:-3])\n",
    "    \n",
    "def eval_poly(coeffs, x):\n",
    "    # coefficients from highest to lowest degree\n",
    "    deg = len(coeffs)-1\n",
    "    ans = 0\n",
    "    for i in range(len(coeffs)):\n",
    "        ans += coeffs[i]*x**(deg-i)\n",
    "        \n",
    "    # in real SSS, this is over a finite field (mod p)\n",
    "    # return ans%p\n",
    "    \n",
    "    # but this is not representable in 2D so we will use int arith\n",
    "    # (note this is not secure)\n",
    "    return ans"
   ]
  },
  {
   "cell_type": "markdown",
   "metadata": {},
   "source": [
    "## Share\n",
    "Here is our sharing function:"
   ]
  },
  {
   "cell_type": "code",
   "execution_count": 153,
   "metadata": {},
   "outputs": [],
   "source": [
    "def share(s, n, t, p):\n",
    "    # check p\n",
    "    if not sympy.isprime(p):\n",
    "        print(\"p={} is not prime!\".format(p))\n",
    "        return\n",
    "    if p <= n:\n",
    "        print(\"p={} must be greater than n={}\".format(p, n))\n",
    "        return\n",
    "        \n",
    "    # check t\n",
    "    if t >= n:\n",
    "        print(\"t={} must be less than n={}\".format(t, n))\n",
    "        return\n",
    "\n",
    "    # check s is in field\n",
    "    if p <= s:\n",
    "        print(\"s={} must be less than p={}\".format(s, p))\n",
    "        return\n",
    "        \n",
    "    coeffs = []\n",
    "    for i in range(t):\n",
    "        # sample coefficients from F_p = {0, ..., p-1}\n",
    "        coeffs.append(random.randint(0,p-1))\n",
    "    # secret is the y-intercept\n",
    "    coeffs.append(s)\n",
    "    \n",
    "    shares = []\n",
    "    for i in range(1,n+1):\n",
    "        shares.append((i, eval_poly(coeffs, i)))\n",
    "        \n",
    "    # plot the polynomial\n",
    "    print(\"The random degree t={} polynomial is\".format(t))\n",
    "    print_poly(coeffs)\n",
    "    x = np.linspace(0, n, n+1)\n",
    "    y = [eval_poly(coeffs, i) for i in x]\n",
    "    plt.plot(x, y)\n",
    "    \n",
    "    # plot the shares\n",
    "    print()\n",
    "    print(\"The shares are points on that polynomial:\")\n",
    "    print(shares)\n",
    "    x1 = [shares[i][0] for i in range(len(shares))]\n",
    "    y1 = [shares[i][1] for i in range(len(shares))]\n",
    "    plt.scatter(x1, y1)\n",
    "    \n",
    "    # plot the secret\n",
    "    plt.scatter(0, s)\n",
    "    \n",
    "    print()\n",
    "    print(\"Here is a visual representation (secret in orange).\")\n",
    "        \n",
    "    return shares"
   ]
  },
  {
   "cell_type": "markdown",
   "metadata": {},
   "source": [
    "For example, say our secret is the number 42. We'd like to share it among 10 parties (n=10), and we'll allow any 4 of those to recover the secret (t=3, t+1 can recover). Now let's pick a prime number p that's bigger than both the secret and the number of parties (so, p>42). The next largest prime is 43, so let's try that!\n",
    "\n",
    "How would you call the `share` function with these parameters?\n",
    "\n",
    "**Answer**\n",
    "```\n",
    "shares = share(42, 10, 3, 43)\n",
    "```"
   ]
  },
  {
   "cell_type": "code",
   "execution_count": 154,
   "metadata": {},
   "outputs": [
    {
     "name": "stdout",
     "output_type": "stream",
     "text": [
      "The random degree t=3 polynomial is\n",
      "15x^3 + 4x^2 + 11x + 42\n",
      "\n",
      "The shares are points on that polynomial:\n",
      "[(1, 72), (2, 200), (3, 516), (4, 1110), (5, 2072), (6, 3492), (7, 5460), (8, 8066), (9, 11400), (10, 15552)]\n",
      "\n",
      "Here is a visual representation (secret in orange).\n"
     ]
    },
    {
     "data": {
      "image/png": "[encoded data removed]",
      "text/plain": [
       "<Figure size 432x288 with 1 Axes>"
      ]
     },
     "metadata": {
      "needs_background": "light"
     },
     "output_type": "display_data"
    }
   ],
   "source": [
    "shares = share(42, n=10, t=3, p=43)"
   ]
  },
  {
   "cell_type": "markdown",
   "metadata": {},
   "source": [
    "Now we can distribute these points among our 10 parties!"
   ]
  },
  {
   "cell_type": "markdown",
   "metadata": {},
   "source": [
    "## Reconstruct\n",
    "Say 4 of those parties (Alice, Bob, Charlie, and Diane) want to recover the secret. We set $t=3$, so they should be able to do this (remember, a minimum of $t+1$ parties is needed). Together, they hold 4 points on the degree-3 polynomial, which uniquely defines it! They can pool this information to recover the polynomial $f$ and evaluate it at $x=0$ using the `recon` function:"
   ]
  },
  {
   "cell_type": "code",
   "execution_count": 149,
   "metadata": {},
   "outputs": [],
   "source": [
    "def recon(shares, n, t):\n",
    "    if len(shares) < t+1:\n",
    "        print(\"Not enough shares to reconstruct! ({} < t+1={})\".format(len(shares), t+1))\n",
    "        return\n",
    "    \n",
    "    # i Lagrange basis polynomials evaluated at 0\n",
    "    ell = [1]*len(shares)\n",
    "    for i in range(len(shares)):\n",
    "        #ell[i] = 1\n",
    "        for j in range(len(shares)):\n",
    "            if i!=j:\n",
    "                ell[i] *= float(0-shares[j][0])/(shares[i][0]-shares[j][0])\n",
    "    \n",
    "    # interpolate\n",
    "    # f(X) = sum_1^{t+1} ell_i(X) * y_i\n",
    "    # s = f(0)\n",
    "    s = 0\n",
    "    for i in range(len(shares)):\n",
    "        s += ell[i]*shares[i][1]\n",
    "\n",
    "    print(\"The reconstructed secret is:\")\n",
    "    return int(s)"
   ]
  },
  {
   "cell_type": "markdown",
   "metadata": {},
   "source": [
    "Assuming Alice, Bob, Charlie, and Diane have the points for $x=1,2,3,4$, respectively, can you use the shares of 42 we created earlier to recover the secret?\n",
    "\n",
    "**Answer**\n",
    "```\n",
    "recon(shares[:4], n=10, t=3)\n",
    "```"
   ]
  },
  {
   "cell_type": "code",
   "execution_count": 150,
   "metadata": {},
   "outputs": [
    {
     "name": "stdout",
     "output_type": "stream",
     "text": [
      "The reconstructed secret is:\n"
     ]
    },
    {
     "data": {
      "text/plain": [
       "42"
      ]
     },
     "execution_count": 150,
     "metadata": {},
     "output_type": "execute_result"
    }
   ],
   "source": [
    "recon(shares, n=10, t=3)"
   ]
  },
  {
   "cell_type": "code",
   "execution_count": null,
   "metadata": {},
   "outputs": [],
   "source": []
  }
 ],
 "metadata": {
  "kernelspec": {
   "display_name": "Python 3",
   "language": "python",
   "name": "python3"
  },
  "language_info": {
   "codemirror_mode": {
    "name": "ipython",
    "version": 3
   },
   "file_extension": ".py",
   "mimetype": "text/x-python",
   "name": "python",
   "nbconvert_exporter": "python",
   "pygments_lexer": "ipython3",
   "version": "3.7.7"
  }
 },
 "nbformat": 4,
 "nbformat_minor": 4
}
