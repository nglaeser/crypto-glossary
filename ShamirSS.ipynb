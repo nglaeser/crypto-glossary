{
 "cells": [
  {
   "cell_type": "markdown",
   "metadata": {},
   "source": [
    "## Shamir Secret Sharing\n",
    "\n",
    "Shamir secret sharing is a $(t+1)$-out-of-$n$ secret sharing protocol. Given a secret value $s$, \n",
    "- define $f(X) = f_t X^t + \\ldots + f_1 X + s$, where $f_t, \\ldots, f_1 \\leftarrow \\mathbb{F}_p$ for some prime $p > n$\n",
    "- give share $f(i)$ to $P_i$ ($i = 1, \\ldots, n$)\n",
    "\n",
    "To reconstruct, at least $t+1$ parties pool their points $(i, f(i))$ and reconstruct the polynomial $f$, e.g. as \n",
    "\n",
    "$$ \\sum_i^{t+1} \\ell_i \\cdot f(i), \\text{ where } \\ell_i(X) = \\frac{\\Pi_{j \\neq i} (X-x_j)}{\\Pi_{j \\neq i} (x_i-x_j)} $$ \n",
    "\n",
    "Then, evaluate $f(0) = s$."
   ]
  },
  {
   "cell_type": "code",
   "execution_count": 1,
   "metadata": {},
   "outputs": [],
   "source": [
    "import numpy as np\n",
    "import random, sympy\n",
    "import matplotlib.pyplot as plt"
   ]
  },
  {
   "cell_type": "code",
   "execution_count": 2,
   "metadata": {},
   "outputs": [],
   "source": [
    "def eval_poly(coeffs, x):\n",
    "    # coefficients from highest to lowest degree\n",
    "    deg = len(coeffs)-1\n",
    "    ans = 0\n",
    "    for i in range(len(coeffs)):\n",
    "        ans += coeffs[i]*x**(deg-i)\n",
    "        \n",
    "    return ans"
   ]
  },
  {
   "cell_type": "code",
   "execution_count": 3,
   "metadata": {},
   "outputs": [],
   "source": [
    "def share(s, n, t, p):\n",
    "    # check p\n",
    "    if not sympy.isprime(p):\n",
    "        print(\"p={} is not prime!\".format(p))\n",
    "        return\n",
    "    if p <= n:\n",
    "        print(\"p={} must be greater than n={}\".format(p, n))\n",
    "        return\n",
    "        \n",
    "    # check t\n",
    "    if t >= n:\n",
    "        print(\"t={} must be less than n={}\".format(t, n))\n",
    "        return\n",
    "        \n",
    "    coeffs = []\n",
    "    for i in range(t):\n",
    "        # sample coefficients from F_p = {0, ..., p-1}\n",
    "        coeffs.append(random.randint(0,p-1))\n",
    "        \n",
    "    shares = []\n",
    "    for i in range(n):\n",
    "        shares.append((i+1, eval_poly(coeffs, i+1)))\n",
    "        \n",
    "    # plot the polynomial\n",
    "    # plot the shares\n",
    "    # plot the secret\n",
    "        \n",
    "    return shares"
   ]
  }
 ],
 "metadata": {
  "kernelspec": {
   "display_name": "Python 3",
   "language": "python",
   "name": "python3"
  },
  "language_info": {
   "codemirror_mode": {
    "name": "ipython",
    "version": 3
   },
   "file_extension": ".py",
   "mimetype": "text/x-python",
   "name": "python",
   "nbconvert_exporter": "python",
   "pygments_lexer": "ipython3",
   "version": "3.7.7"
  }
 },
 "nbformat": 4,
 "nbformat_minor": 4
}
